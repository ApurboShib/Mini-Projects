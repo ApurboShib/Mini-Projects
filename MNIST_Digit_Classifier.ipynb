{
  "nbformat": 4,
  "nbformat_minor": 0,
  "metadata": {
    "colab": {
      "provenance": [],
      "collapsed_sections": [
        "uKLhU7jMjdbk"
      ]
    },
    "kernelspec": {
      "name": "python3",
      "display_name": "Python 3"
    },
    "language_info": {
      "name": "python"
    }
  },
  "cells": [
    {
      "cell_type": "markdown",
      "source": [
        "***Building a deep learning model to classify handwritten digits using the MNIST dataset***"
      ],
      "metadata": {
        "id": "KSof9LU3jFYi"
      }
    },
    {
      "cell_type": "code",
      "source": [
        "import pandas as pd\n",
        "import numpy as np\n",
        "import matplotlib.pyplot as plt\n",
        "import tensorflow as tf"
      ],
      "metadata": {
        "id": "GMmdpf2QjOrU"
      },
      "execution_count": 1,
      "outputs": []
    },
    {
      "cell_type": "markdown",
      "source": [
        "# Step 1 :  Load the MNIST dataset."
      ],
      "metadata": {
        "id": "uKLhU7jMjdbk"
      }
    },
    {
      "cell_type": "code",
      "source": [
        "from tensorflow.keras.datasets import mnist"
      ],
      "metadata": {
        "id": "ciF9fcK8kBQt"
      },
      "execution_count": 5,
      "outputs": []
    },
    {
      "cell_type": "code",
      "source": [
        "(x_train, y_train), (x_test, y_test) = mnist.load_data()\n",
        "\n",
        "print(\"Training data shape:\", x_train.shape)\n",
        "print(\"Testing data shape:\", x_test.shape)"
      ],
      "metadata": {
        "colab": {
          "base_uri": "https://localhost:8080/"
        },
        "id": "I3dNC1wkjiyz",
        "outputId": "59ca9ecd-c8b6-4c4a-99ee-6e146599ed51"
      },
      "execution_count": 7,
      "outputs": [
        {
          "output_type": "stream",
          "name": "stdout",
          "text": [
            "Training data shape: (60000, 28, 28)\n",
            "Testing data shape: (10000, 28, 28)\n"
          ]
        }
      ]
    },
    {
      "cell_type": "markdown",
      "source": [
        "# Step 2 : Preprocessing."
      ],
      "metadata": {
        "id": "sDbRopT2kH_I"
      }
    },
    {
      "cell_type": "markdown",
      "source": [
        "## Normalized the pixel values."
      ],
      "metadata": {
        "id": "OFJzu9UFkOI7"
      }
    },
    {
      "cell_type": "code",
      "source": [
        "x_train = x_train.astype(\"float32\") / 255.0\n",
        "x_test = x_test.astype(\"float32\") / 255.0"
      ],
      "metadata": {
        "id": "jE3XYGXlkLsY"
      },
      "execution_count": 8,
      "outputs": []
    },
    {
      "cell_type": "markdown",
      "source": [
        "## Flatten images (28x28)"
      ],
      "metadata": {
        "id": "wAh8ZWd5kXVt"
      }
    },
    {
      "cell_type": "code",
      "source": [
        "x_train = x_train.reshape((x_train.shape[0], 28*28))\n",
        "x_test = x_test.reshape((x_test.shape[0], 28*28))\n"
      ],
      "metadata": {
        "id": "3K7MYmPBkYqV"
      },
      "execution_count": 9,
      "outputs": []
    },
    {
      "cell_type": "markdown",
      "source": [
        "## See the shape of the train-test"
      ],
      "metadata": {
        "id": "AE0EmUJ5k_dH"
      }
    },
    {
      "cell_type": "code",
      "metadata": {
        "colab": {
          "base_uri": "https://localhost:8080/"
        },
        "id": "6197ed08",
        "outputId": "27867b2d-d9a8-4b8b-df21-319c78d2385f"
      },
      "source": [
        "print(\"Training data shape:\", x_train.shape)\n",
        "print(\"Training data type:\", x_train.dtype)\n",
        "print(\"\\nTesting data shape:\", x_test.shape)\n",
        "print(\"Testing data type:\", x_test.dtype)\n",
        "\n"
      ],
      "execution_count": 11,
      "outputs": [
        {
          "output_type": "stream",
          "name": "stdout",
          "text": [
            "Training data shape: (60000, 784)\n",
            "Training data type: float32\n",
            "\n",
            "Testing data shape: (10000, 784)\n",
            "Testing data type: float32\n"
          ]
        }
      ]
    },
    {
      "cell_type": "markdown",
      "source": [
        "## Understand the data"
      ],
      "metadata": {
        "id": "W0upo5wxq3q1"
      }
    },
    {
      "cell_type": "code",
      "source": [
        "train_df = pd.DataFrame(x_train)\n",
        "test_df = pd.DataFrame(x_test)\n",
        "\n",
        "print(\"\\nTraining data description:\")\n",
        "print(train_df.describe())\n",
        "\n",
        "print(\"\\nTesting data description:\")\n",
        "print(test_df.describe())"
      ],
      "metadata": {
        "colab": {
          "base_uri": "https://localhost:8080/"
        },
        "id": "91zcPfASlImD",
        "outputId": "68d1de28-2c81-437e-b46c-08b2d4055548"
      },
      "execution_count": 15,
      "outputs": [
        {
          "output_type": "stream",
          "name": "stdout",
          "text": [
            "\n",
            "Training data description:\n",
            "           0        1        2        3        4        5        6        7    \\\n",
            "count  60000.0  60000.0  60000.0  60000.0  60000.0  60000.0  60000.0  60000.0   \n",
            "mean       0.0      0.0      0.0      0.0      0.0      0.0      0.0      0.0   \n",
            "std        0.0      0.0      0.0      0.0      0.0      0.0      0.0      0.0   \n",
            "min        0.0      0.0      0.0      0.0      0.0      0.0      0.0      0.0   \n",
            "25%        0.0      0.0      0.0      0.0      0.0      0.0      0.0      0.0   \n",
            "50%        0.0      0.0      0.0      0.0      0.0      0.0      0.0      0.0   \n",
            "75%        0.0      0.0      0.0      0.0      0.0      0.0      0.0      0.0   \n",
            "max        0.0      0.0      0.0      0.0      0.0      0.0      0.0      0.0   \n",
            "\n",
            "           8        9    ...           774           775           776  \\\n",
            "count  60000.0  60000.0  ...  60000.000000  60000.000000  60000.000000   \n",
            "mean       0.0      0.0  ...      0.000786      0.000348      0.000179   \n",
            "std        0.0      0.0  ...      0.023688      0.015512      0.011135   \n",
            "min        0.0      0.0  ...      0.000000      0.000000      0.000000   \n",
            "25%        0.0      0.0  ...      0.000000      0.000000      0.000000   \n",
            "50%        0.0      0.0  ...      0.000000      0.000000      0.000000   \n",
            "75%        0.0      0.0  ...      0.000000      0.000000      0.000000   \n",
            "max        0.0      0.0  ...      0.996078      0.996078      0.992157   \n",
            "\n",
            "                777           778           779      780      781      782  \\\n",
            "count  60000.000000  60000.000000  60000.000000  60000.0  60000.0  60000.0   \n",
            "mean       0.000076      0.000059      0.000008      0.0      0.0      0.0   \n",
            "std        0.006614      0.006581      0.001359      0.0      0.0      0.0   \n",
            "min        0.000000      0.000000      0.000000      0.0      0.0      0.0   \n",
            "25%        0.000000      0.000000      0.000000      0.0      0.0      0.0   \n",
            "50%        0.000000      0.000000      0.000000      0.0      0.0      0.0   \n",
            "75%        0.000000      0.000000      0.000000      0.0      0.0      0.0   \n",
            "max        0.992157      0.996078      0.243137      0.0      0.0      0.0   \n",
            "\n",
            "           783  \n",
            "count  60000.0  \n",
            "mean       0.0  \n",
            "std        0.0  \n",
            "min        0.0  \n",
            "25%        0.0  \n",
            "50%        0.0  \n",
            "75%        0.0  \n",
            "max        0.0  \n",
            "\n",
            "[8 rows x 784 columns]\n",
            "\n",
            "Testing data description:\n",
            "           0        1        2        3        4        5        6        7    \\\n",
            "count  10000.0  10000.0  10000.0  10000.0  10000.0  10000.0  10000.0  10000.0   \n",
            "mean       0.0      0.0      0.0      0.0      0.0      0.0      0.0      0.0   \n",
            "std        0.0      0.0      0.0      0.0      0.0      0.0      0.0      0.0   \n",
            "min        0.0      0.0      0.0      0.0      0.0      0.0      0.0      0.0   \n",
            "25%        0.0      0.0      0.0      0.0      0.0      0.0      0.0      0.0   \n",
            "50%        0.0      0.0      0.0      0.0      0.0      0.0      0.0      0.0   \n",
            "75%        0.0      0.0      0.0      0.0      0.0      0.0      0.0      0.0   \n",
            "max        0.0      0.0      0.0      0.0      0.0      0.0      0.0      0.0   \n",
            "\n",
            "           8        9    ...           774           775           776  \\\n",
            "count  10000.0  10000.0  ...  10000.000000  10000.000000  10000.000000   \n",
            "mean       0.0      0.0  ...      0.000703      0.000642      0.000206   \n",
            "std        0.0      0.0  ...      0.022251      0.022495      0.009491   \n",
            "min        0.0      0.0  ...      0.000000      0.000000      0.000000   \n",
            "25%        0.0      0.0  ...      0.000000      0.000000      0.000000   \n",
            "50%        0.0      0.0  ...      0.000000      0.000000      0.000000   \n",
            "75%        0.0      0.0  ...      0.000000      0.000000      0.000000   \n",
            "max        0.0      0.0  ...      0.992157      0.992157      0.611765   \n",
            "\n",
            "                777      778      779      780      781      782      783  \n",
            "count  10000.000000  10000.0  10000.0  10000.0  10000.0  10000.0  10000.0  \n",
            "mean       0.000002      0.0      0.0      0.0      0.0      0.0      0.0  \n",
            "std        0.000235      0.0      0.0      0.0      0.0      0.0      0.0  \n",
            "min        0.000000      0.0      0.0      0.0      0.0      0.0      0.0  \n",
            "25%        0.000000      0.0      0.0      0.0      0.0      0.0      0.0  \n",
            "50%        0.000000      0.0      0.0      0.0      0.0      0.0      0.0  \n",
            "75%        0.000000      0.0      0.0      0.0      0.0      0.0      0.0  \n",
            "max        0.023529      0.0      0.0      0.0      0.0      0.0      0.0  \n",
            "\n",
            "[8 rows x 784 columns]\n"
          ]
        }
      ]
    },
    {
      "cell_type": "markdown",
      "source": [
        "##  One-hot encode labels"
      ],
      "metadata": {
        "id": "_6Ym2qaQlnwQ"
      }
    },
    {
      "cell_type": "code",
      "source": [
        "from tensorflow.keras.utils import to_categorical"
      ],
      "metadata": {
        "id": "maQBj-EAl5HA"
      },
      "execution_count": 18,
      "outputs": []
    },
    {
      "cell_type": "code",
      "source": [
        "y_train_one_hot = to_categorical(y_train, 10)\n",
        "y_test_one_hot = to_categorical(y_test, 10)"
      ],
      "metadata": {
        "id": "eUUP4F_-lp7n"
      },
      "execution_count": 19,
      "outputs": []
    },
    {
      "cell_type": "markdown",
      "source": [
        "# Step 3 : Model Architecture"
      ],
      "metadata": {
        "id": "aDCc-XVzmA_E"
      }
    },
    {
      "cell_type": "code",
      "source": [
        "from tensorflow.keras.models import Sequential\n",
        "from tensorflow.keras.layers import Dense, BatchNormalization, Dropout"
      ],
      "metadata": {
        "id": "-chAJfTVmlex"
      },
      "execution_count": 21,
      "outputs": []
    },
    {
      "cell_type": "code",
      "source": [
        "model = Sequential([\n",
        "    Dense(512, activation=\"relu\", input_shape=(784,)),\n",
        "    BatchNormalization(),\n",
        "    Dropout(0.3),\n",
        "\n",
        "    Dense(256, activation=\"relu\"),\n",
        "    BatchNormalization(),\n",
        "    Dropout(0.3),\n",
        "\n",
        "    Dense(128, activation=\"relu\"),\n",
        "    Dropout(0.2),\n",
        "\n",
        "    Dense(10, activation=\"softmax\")\n",
        "])"
      ],
      "metadata": {
        "colab": {
          "base_uri": "https://localhost:8080/"
        },
        "id": "K4mxl_BImcEb",
        "outputId": "ab72dd0e-5a63-4a1a-cc06-6cef65dffa68"
      },
      "execution_count": 22,
      "outputs": [
        {
          "output_type": "stream",
          "name": "stderr",
          "text": [
            "/usr/local/lib/python3.12/dist-packages/keras/src/layers/core/dense.py:93: UserWarning: Do not pass an `input_shape`/`input_dim` argument to a layer. When using Sequential models, prefer using an `Input(shape)` object as the first layer in the model instead.\n",
            "  super().__init__(activity_regularizer=activity_regularizer, **kwargs)\n"
          ]
        }
      ]
    },
    {
      "cell_type": "markdown",
      "source": [
        "# Step 4 : Compile & Train"
      ],
      "metadata": {
        "id": "EbKkB3xEnE3A"
      }
    },
    {
      "cell_type": "code",
      "source": [
        "model.compile(\n",
        "    loss=\"categorical_crossentropy\",\n",
        "    optimizer=\"adam\",\n",
        "    metrics=[\"accuracy\"]\n",
        ")\n",
        "\n",
        "# Train with validation split\n",
        "history = model.fit(\n",
        "    x_train, y_train_one_hot,\n",
        "    validation_split=0.2,\n",
        "    epochs=15,\n",
        "    batch_size=128,\n",
        "    verbose=2\n",
        ")"
      ],
      "metadata": {
        "colab": {
          "base_uri": "https://localhost:8080/"
        },
        "id": "2pmH2uE1nIw_",
        "outputId": "dfb7a26d-865b-4f6d-e5ac-a339ac5e5011"
      },
      "execution_count": 31,
      "outputs": [
        {
          "output_type": "stream",
          "name": "stdout",
          "text": [
            "Epoch 1/15\n",
            "375/375 - 9s - 24ms/step - accuracy: 0.8976 - loss: 0.3351 - val_accuracy: 0.9608 - val_loss: 0.1289\n",
            "Epoch 2/15\n",
            "375/375 - 6s - 16ms/step - accuracy: 0.9518 - loss: 0.1592 - val_accuracy: 0.9712 - val_loss: 0.1005\n",
            "Epoch 3/15\n",
            "375/375 - 6s - 17ms/step - accuracy: 0.9633 - loss: 0.1222 - val_accuracy: 0.9703 - val_loss: 0.0935\n",
            "Epoch 4/15\n",
            "375/375 - 6s - 16ms/step - accuracy: 0.9690 - loss: 0.1006 - val_accuracy: 0.9746 - val_loss: 0.0823\n",
            "Epoch 5/15\n",
            "375/375 - 11s - 29ms/step - accuracy: 0.9720 - loss: 0.0899 - val_accuracy: 0.9757 - val_loss: 0.0811\n",
            "Epoch 6/15\n",
            "375/375 - 10s - 27ms/step - accuracy: 0.9750 - loss: 0.0779 - val_accuracy: 0.9772 - val_loss: 0.0836\n",
            "Epoch 7/15\n",
            "375/375 - 9s - 25ms/step - accuracy: 0.9771 - loss: 0.0720 - val_accuracy: 0.9778 - val_loss: 0.0774\n",
            "Epoch 8/15\n",
            "375/375 - 10s - 27ms/step - accuracy: 0.9794 - loss: 0.0629 - val_accuracy: 0.9798 - val_loss: 0.0695\n",
            "Epoch 9/15\n",
            "375/375 - 10s - 28ms/step - accuracy: 0.9806 - loss: 0.0608 - val_accuracy: 0.9778 - val_loss: 0.0769\n",
            "Epoch 10/15\n",
            "375/375 - 10s - 27ms/step - accuracy: 0.9821 - loss: 0.0562 - val_accuracy: 0.9795 - val_loss: 0.0765\n",
            "Epoch 11/15\n",
            "375/375 - 11s - 29ms/step - accuracy: 0.9844 - loss: 0.0477 - val_accuracy: 0.9793 - val_loss: 0.0745\n",
            "Epoch 12/15\n",
            "375/375 - 11s - 28ms/step - accuracy: 0.9846 - loss: 0.0473 - val_accuracy: 0.9793 - val_loss: 0.0737\n",
            "Epoch 13/15\n",
            "375/375 - 6s - 16ms/step - accuracy: 0.9854 - loss: 0.0454 - val_accuracy: 0.9797 - val_loss: 0.0794\n",
            "Epoch 14/15\n",
            "375/375 - 7s - 19ms/step - accuracy: 0.9852 - loss: 0.0457 - val_accuracy: 0.9820 - val_loss: 0.0670\n",
            "Epoch 15/15\n",
            "375/375 - 11s - 28ms/step - accuracy: 0.9854 - loss: 0.0430 - val_accuracy: 0.9807 - val_loss: 0.0749\n"
          ]
        }
      ]
    },
    {
      "cell_type": "markdown",
      "source": [
        "# Step 5 : Visualization"
      ],
      "metadata": {
        "id": "TIsQj1PWpSA9"
      }
    },
    {
      "cell_type": "markdown",
      "source": [
        "## plot Accuracy"
      ],
      "metadata": {
        "id": "GiBZ-Qa-pbdw"
      }
    },
    {
      "cell_type": "code",
      "source": [
        "plt.plot(history.history['accuracy'], label='Train Accuracy')\n",
        "plt.plot(history.history['val_accuracy'], label='Validation Accuracy')\n",
        "plt.title(\"Model Accuracy\")\n",
        "plt.xlabel(\"Epochs\")\n",
        "plt.ylabel(\"Accuracy\")\n",
        "plt.legend()\n",
        "plt.show()"
      ],
      "metadata": {
        "colab": {
          "base_uri": "https://localhost:8080/",
          "height": 472
        },
        "id": "k_K4VdtipVhy",
        "outputId": "482c4891-05f8-4101-ae7e-a4aa57c2fac9"
      },
      "execution_count": 32,
      "outputs": [
        {
          "output_type": "display_data",
          "data": {
            "text/plain": [
              "<Figure size 640x480 with 1 Axes>"
            ],
            "image/png": "[encoded data removed]"
          },
          "metadata": {}
        }
      ]
    },
    {
      "cell_type": "code",
      "source": [],
      "metadata": {
        "id": "hwHPU1ObsJ94"
      },
      "execution_count": null,
      "outputs": []
    },
    {
      "cell_type": "markdown",
      "metadata": {
        "id": "4dc3364a"
      },
      "source": [
        "The loss plot shows how much error the model made during training on both the training and validation data. We want to see both lines decreasing, indicating that the model is improving its predictions over time."
      ]
    },
    {
      "cell_type": "markdown",
      "source": [
        "## Plot Loss"
      ],
      "metadata": {
        "id": "ilxOFCNOpkVR"
      }
    },
    {
      "cell_type": "code",
      "source": [
        "plt.plot(history.history['loss'], label='Train Loss')\n",
        "plt.plot(history.history['val_loss'], label='Validation Loss')\n",
        "plt.title(\"Model Loss\")\n",
        "plt.xlabel(\"Epochs\")\n",
        "plt.ylabel(\"Loss\")\n",
        "plt.legend()\n",
        "plt.show()"
      ],
      "metadata": {
        "colab": {
          "base_uri": "https://localhost:8080/",
          "height": 472
        },
        "id": "tabuTHv_pm5s",
        "outputId": "b67116f3-171d-4844-cc3b-a32cc6e48d73"
      },
      "execution_count": 33,
      "outputs": [
        {
          "output_type": "display_data",
          "data": {
            "text/plain": [
              "<Figure size 640x480 with 1 Axes>"
            ],
            "image/png": "[encoded data removed]"
          },
          "metadata": {}
        }
      ]
    },
    {
      "cell_type": "code",
      "source": [],
      "metadata": {
        "id": "9-vQLp9Isjgj"
      },
      "execution_count": null,
      "outputs": []
    },
    {
      "cell_type": "markdown",
      "metadata": {
        "id": "3cfe4f8d"
      },
      "source": [
        "The loss plot shows how much error the model made during training on both the training and validation data. We want to see both lines decreasing, indicating that the model is improving its predictions over time."
      ]
    },
    {
      "cell_type": "markdown",
      "source": [
        "# Step 6 : Evaluations"
      ],
      "metadata": {
        "id": "Kwhd07hGqeEt"
      }
    },
    {
      "cell_type": "code",
      "source": [
        "test_loss, test_acc = model.evaluate(x_test, y_test_one_hot, verbose=0)\n",
        "print(\"Test Accuracy:\", test_acc * 100)"
      ],
      "metadata": {
        "colab": {
          "base_uri": "https://localhost:8080/"
        },
        "id": "-i-XyjrAqg7B",
        "outputId": "e549c66e-6e00-4de0-86b5-ce4b75504265"
      },
      "execution_count": 36,
      "outputs": [
        {
          "output_type": "stream",
          "name": "stdout",
          "text": [
            "Test Accuracy: 98.00999760627747\n"
          ]
        }
      ]
    },
    {
      "cell_type": "markdown",
      "metadata": {
        "id": "c2af1d03"
      },
      "source": [
        "The model achieved a test accuracy of approximately 98.01%. The training and validation plots show good learning progress with decreasing loss and increasing accuracy over epochs."
      ]
    }
  ]
}